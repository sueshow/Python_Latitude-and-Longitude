{
  "nbformat": 4,
  "nbformat_minor": 0,
  "metadata": {
    "kernelspec": {
      "display_name": "Python 3",
      "language": "python",
      "name": "python3"
    },
    "language_info": {
      "codemirror_mode": {
        "name": "ipython",
        "version": 3
      },
      "file_extension": ".py",
      "mimetype": "text/x-python",
      "name": "python",
      "nbconvert_exporter": "python",
      "pygments_lexer": "ipython3",
      "version": "3.7.3"
    },
    "colab": {
      "name": "方法-Latitude and longitude01.ipynb",
      "provenance": [],
      "collapsed_sections": [],
      "toc_visible": true,
      "include_colab_link": true
    }
  },
  "cells": [
    {
      "cell_type": "markdown",
      "metadata": {
        "id": "view-in-github",
        "colab_type": "text"
      },
      "source": [
        "<a href=\"https://colab.research.google.com/github/sueshow/Python_Latitude-and-Longitude/blob/master/%E6%96%B9%E6%B3%95_Latitude_and_longitude01.ipynb\" target=\"_parent\"><img src=\"https://colab.research.google.com/assets/colab-badge.svg\" alt=\"Open In Colab\"/></a>"
      ]
    },
    {
      "cell_type": "code",
      "metadata": {
        "id": "qPFZ9jFt_R6f",
        "colab": {
          "base_uri": "https://localhost:8080/",
          "height": 126
        },
        "outputId": "1c652d74-1ae5-4afb-a07a-a2baaed6d682"
      },
      "source": [
        "from google.colab import drive\n",
        "drive.mount('/content/drive')"
      ],
      "execution_count": null,
      "outputs": [
        {
          "output_type": "stream",
          "text": [
            "Go to this URL in a browser: https://accounts.google.com/o/oauth2/auth?client_id=947318989803-6bn6qk8qdgf4n4g3pfee6491hc0brc4i.apps.googleusercontent.com&redirect_uri=urn%3aietf%3awg%3aoauth%3a2.0%3aoob&response_type=code&scope=email%20https%3a%2f%2fwww.googleapis.com%2fauth%2fdocs.test%20https%3a%2f%2fwww.googleapis.com%2fauth%2fdrive%20https%3a%2f%2fwww.googleapis.com%2fauth%2fdrive.photos.readonly%20https%3a%2f%2fwww.googleapis.com%2fauth%2fpeopleapi.readonly\n",
            "\n",
            "Enter your authorization code:\n",
            "··········\n",
            "Mounted at /content/drive\n"
          ],
          "name": "stdout"
        }
      ]
    },
    {
      "cell_type": "markdown",
      "metadata": {
        "id": "Q6l9AGWj_QbO"
      },
      "source": [
        "###### (方法01) 匯入套件：較準確"
      ]
    },
    {
      "cell_type": "code",
      "metadata": {
        "id": "9fKFweWe_QbP",
        "colab": {
          "base_uri": "https://localhost:8080/",
          "height": 204
        },
        "outputId": "730aa15d-7c5d-42a7-aaa4-09d52eecf679"
      },
      "source": [
        "!pip install geocoder"
      ],
      "execution_count": null,
      "outputs": [
        {
          "output_type": "stream",
          "text": [
            "Requirement already satisfied: geocoder in /usr/local/lib/python3.6/dist-packages (1.38.1)\n",
            "Requirement already satisfied: future in /usr/local/lib/python3.6/dist-packages (from geocoder) (0.16.0)\n",
            "Requirement already satisfied: click in /usr/local/lib/python3.6/dist-packages (from geocoder) (7.1.2)\n",
            "Requirement already satisfied: ratelim in /usr/local/lib/python3.6/dist-packages (from geocoder) (0.1.6)\n",
            "Requirement already satisfied: six in /usr/local/lib/python3.6/dist-packages (from geocoder) (1.15.0)\n",
            "Requirement already satisfied: requests in /usr/local/lib/python3.6/dist-packages (from geocoder) (2.23.0)\n",
            "Requirement already satisfied: decorator in /usr/local/lib/python3.6/dist-packages (from ratelim->geocoder) (4.4.2)\n",
            "Requirement already satisfied: idna<3,>=2.5 in /usr/local/lib/python3.6/dist-packages (from requests->geocoder) (2.10)\n",
            "Requirement already satisfied: certifi>=2017.4.17 in /usr/local/lib/python3.6/dist-packages (from requests->geocoder) (2020.6.20)\n",
            "Requirement already satisfied: urllib3!=1.25.0,!=1.25.1,<1.26,>=1.21.1 in /usr/local/lib/python3.6/dist-packages (from requests->geocoder) (1.24.3)\n",
            "Requirement already satisfied: chardet<4,>=3.0.2 in /usr/local/lib/python3.6/dist-packages (from requests->geocoder) (3.0.4)\n"
          ],
          "name": "stdout"
        }
      ]
    },
    {
      "cell_type": "code",
      "metadata": {
        "id": "DbC3RlTd_QbU"
      },
      "source": [
        "#!pip install openpyxl"
      ],
      "execution_count": null,
      "outputs": []
    },
    {
      "cell_type": "code",
      "metadata": {
        "id": "TZ3HQa_0_QbX"
      },
      "source": [
        "import pandas as pd \n",
        "import numpy as np\n",
        "import time\n",
        "#import xlwings as xw #讀excel的套件"
      ],
      "execution_count": null,
      "outputs": []
    },
    {
      "cell_type": "code",
      "metadata": {
        "id": "QXXv1KJm_Qba"
      },
      "source": [
        "import geocoder\n",
        "import openpyxl as xls"
      ],
      "execution_count": null,
      "outputs": []
    },
    {
      "cell_type": "markdown",
      "metadata": {
        "id": "sVdqJPSg_Qbd"
      },
      "source": [
        "* 單一地點"
      ]
    },
    {
      "cell_type": "code",
      "metadata": {
        "id": "HGFyqOHK_Qbe",
        "colab": {
          "base_uri": "https://localhost:8080/",
          "height": 34
        },
        "outputId": "060f0d75-bd92-4f9d-b064-a8103e775595"
      },
      "source": [
        "g = geocoder.osm('國立政治大學')\n",
        "g"
      ],
      "execution_count": null,
      "outputs": [
        {
          "output_type": "execute_result",
          "data": {
            "text/plain": [
              "<[OK] Osm - Geocode [國立政治大學, 64, 指南路二段, 新隆, 萬興里, 臺北市, 文山區, 11605, Taiwan]>"
            ]
          },
          "metadata": {
            "tags": []
          },
          "execution_count": 27
        }
      ]
    },
    {
      "cell_type": "code",
      "metadata": {
        "id": "gXgn3yo-_Qbl"
      },
      "source": [
        "# g.geojson\n",
        "# g.json\n",
        "# g.wkt\n",
        "# g.osm"
      ],
      "execution_count": null,
      "outputs": []
    },
    {
      "cell_type": "code",
      "metadata": {
        "id": "ArPSJWXX_Qbp",
        "colab": {
          "base_uri": "https://localhost:8080/",
          "height": 901
        },
        "outputId": "ca4210c4-15d3-4241-aee4-a456f4e664ae"
      },
      "source": [
        "g.json"
      ],
      "execution_count": null,
      "outputs": [
        {
          "output_type": "execute_result",
          "data": {
            "text/plain": [
              "{'accuracy': 0.5987354621203587,\n",
              " 'address': '國立政治大學, 64, 指南路二段, 新隆, 萬興里, 臺北市, 文山區, 11605, Taiwan',\n",
              " 'allotments': '新隆',\n",
              " 'bbox': {'northeast': [24.9887223, 121.5820165],\n",
              "  'southwest': [24.9776158, 121.5675402]},\n",
              " 'city': '臺北市',\n",
              " 'confidence': 7,\n",
              " 'country': 'Taiwan',\n",
              " 'country_code': 'tw',\n",
              " 'district': '萬興里',\n",
              " 'farm': '新隆',\n",
              " 'hamlet': '新隆',\n",
              " 'housenumber': '64',\n",
              " 'icon': 'https://nominatim.openstreetmap.org/images/mapicons/education_university.p.20.png',\n",
              " 'importance': 0.5987354621203587,\n",
              " 'isolated_dwelling': '新隆',\n",
              " 'lat': 24.98159995,\n",
              " 'lng': 121.57543234141026,\n",
              " 'ok': True,\n",
              " 'osm_id': 2946719,\n",
              " 'osm_type': 'relation',\n",
              " 'place_id': 235926536,\n",
              " 'place_rank': 30,\n",
              " 'postal': '11605',\n",
              " 'quality': 'university',\n",
              " 'raw': {'address': {'amenity': '國立政治大學',\n",
              "   'city': '臺北市',\n",
              "   'city_district': '萬興里',\n",
              "   'country': 'Taiwan',\n",
              "   'country_code': 'tw',\n",
              "   'hamlet': '新隆',\n",
              "   'house_number': '64',\n",
              "   'postcode': '11605',\n",
              "   'road': '指南路二段',\n",
              "   'suburb': '文山區'},\n",
              "  'boundingbox': ['24.9776158', '24.9887223', '121.5675402', '121.5820165'],\n",
              "  'category': 'amenity',\n",
              "  'display_name': '國立政治大學, 64, 指南路二段, 新隆, 萬興里, 臺北市, 文山區, 11605, Taiwan',\n",
              "  'icon': 'https://nominatim.openstreetmap.org/images/mapicons/education_university.p.20.png',\n",
              "  'importance': 0.5987354621203587,\n",
              "  'lat': '24.98159995',\n",
              "  'licence': 'Data © OpenStreetMap contributors, ODbL 1.0. https://osm.org/copyright',\n",
              "  'lon': '121.57543234141026',\n",
              "  'osm_id': 2946719,\n",
              "  'osm_type': 'relation',\n",
              "  'place_id': 235926536,\n",
              "  'place_rank': 30,\n",
              "  'type': 'university'},\n",
              " 'status': 'OK',\n",
              " 'street': '指南路二段',\n",
              " 'suburb': '文山區',\n",
              " 'type': 'university'}"
            ]
          },
          "metadata": {
            "tags": []
          },
          "execution_count": 17
        }
      ]
    },
    {
      "cell_type": "code",
      "metadata": {
        "id": "bXPRwYpc_Qbs",
        "colab": {
          "base_uri": "https://localhost:8080/",
          "height": 52
        },
        "outputId": "72f44d3a-43cb-4e67-ad90-a2ca7c3ea8df"
      },
      "source": [
        "g.bbox"
      ],
      "execution_count": null,
      "outputs": [
        {
          "output_type": "execute_result",
          "data": {
            "text/plain": [
              "{'northeast': [24.9887223, 121.5820165],\n",
              " 'southwest': [24.9776158, 121.5675402]}"
            ]
          },
          "metadata": {
            "tags": []
          },
          "execution_count": 8
        }
      ]
    },
    {
      "cell_type": "code",
      "metadata": {
        "id": "lHJ-Trua_Qbu",
        "colab": {
          "base_uri": "https://localhost:8080/",
          "height": 35
        },
        "outputId": "a0369d45-056a-4f36-b02e-921f9b31ffbe"
      },
      "source": [
        "g.southwest"
      ],
      "execution_count": null,
      "outputs": [
        {
          "output_type": "execute_result",
          "data": {
            "text/plain": [
              "[24.9776158, 121.5675402]"
            ]
          },
          "metadata": {
            "tags": []
          },
          "execution_count": 9
        }
      ]
    },
    {
      "cell_type": "code",
      "metadata": {
        "id": "dabGSYmB_Qbw",
        "colab": {
          "base_uri": "https://localhost:8080/",
          "height": 35
        },
        "outputId": "281a8672-bfc0-4601-ae12-bb8f1a29916f"
      },
      "source": [
        "g.northeast"
      ],
      "execution_count": null,
      "outputs": [
        {
          "output_type": "execute_result",
          "data": {
            "text/plain": [
              "[24.9887223, 121.5820165]"
            ]
          },
          "metadata": {
            "tags": []
          },
          "execution_count": 10
        }
      ]
    },
    {
      "cell_type": "code",
      "metadata": {
        "id": "MoFRsGr9_Qby",
        "colab": {
          "base_uri": "https://localhost:8080/",
          "height": 35
        },
        "outputId": "7688e212-f8e0-4087-9677-71cc1aabc772"
      },
      "source": [
        "g.json[\"lat\"], g.json[\"lng\"]\n",
        "# 衛生福利部資料：https://tw-aed.mohw.gov.tw/ShowPlace.jsp?PlaceID=5262\n",
        "# 地址：台北市文山區指南路2段64號\n",
        "# 經緯度：(24.986909,  121.576520)\n",
        "# boundingbox：校園範圍\n",
        "# (24.98159995, 121.57543234141)"
      ],
      "execution_count": null,
      "outputs": [
        {
          "output_type": "execute_result",
          "data": {
            "text/plain": [
              "(24.98159995, 121.57543234141026)"
            ]
          },
          "metadata": {
            "tags": []
          },
          "execution_count": 11
        }
      ]
    },
    {
      "cell_type": "code",
      "metadata": {
        "id": "6FAHdEt-_Qb0",
        "colab": {
          "base_uri": "https://localhost:8080/",
          "height": 35
        },
        "outputId": "bb4e0b27-7f2b-4bac-c1dd-a2ac4dffdba3"
      },
      "source": [
        "g.latlng"
      ],
      "execution_count": null,
      "outputs": [
        {
          "output_type": "execute_result",
          "data": {
            "text/plain": [
              "[24.98159995, 121.57543234141026]"
            ]
          },
          "metadata": {
            "tags": []
          },
          "execution_count": 12
        }
      ]
    },
    {
      "cell_type": "markdown",
      "metadata": {
        "id": "TKgAfAvV_Qb2"
      },
      "source": [
        "* 批次查詢"
      ]
    },
    {
      "cell_type": "code",
      "metadata": {
        "id": "Jn48wkcH_Qb2",
        "colab": {
          "base_uri": "https://localhost:8080/",
          "height": 194
        },
        "outputId": "8e68ae21-9b75-4362-91d8-7bfd059fcb11"
      },
      "source": [
        "map_data02 = pd.read_csv('/content/drive/My Drive/Colab Notebooks/地址轉經緯度/Input/School.csv', encoding='big5')\n",
        "map_data02[0:5]"
      ],
      "execution_count": null,
      "outputs": [
        {
          "output_type": "execute_result",
          "data": {
            "text/html": [
              "<div>\n",
              "<style scoped>\n",
              "    .dataframe tbody tr th:only-of-type {\n",
              "        vertical-align: middle;\n",
              "    }\n",
              "\n",
              "    .dataframe tbody tr th {\n",
              "        vertical-align: top;\n",
              "    }\n",
              "\n",
              "    .dataframe thead th {\n",
              "        text-align: right;\n",
              "    }\n",
              "</style>\n",
              "<table border=\"1\" class=\"dataframe\">\n",
              "  <thead>\n",
              "    <tr style=\"text-align: right;\">\n",
              "      <th></th>\n",
              "      <th>代碼</th>\n",
              "      <th>學校名稱</th>\n",
              "      <th>公/私立</th>\n",
              "      <th>縣市名稱</th>\n",
              "      <th>郵遞區號</th>\n",
              "      <th>地址</th>\n",
              "      <th>電話</th>\n",
              "      <th>網址</th>\n",
              "    </tr>\n",
              "  </thead>\n",
              "  <tbody>\n",
              "    <tr>\n",
              "      <th>0</th>\n",
              "      <td>14501</td>\n",
              "      <td>市立板橋國中</td>\n",
              "      <td>公立</td>\n",
              "      <td>[01]新北市</td>\n",
              "      <td>220</td>\n",
              "      <td>新北市板橋區中正路437號</td>\n",
              "      <td>(02)29666498#234</td>\n",
              "      <td>http://www.pcjh.ntpc.edu.tw</td>\n",
              "    </tr>\n",
              "    <tr>\n",
              "      <th>1</th>\n",
              "      <td>14503</td>\n",
              "      <td>市立重慶國中</td>\n",
              "      <td>公立</td>\n",
              "      <td>[01]新北市</td>\n",
              "      <td>220</td>\n",
              "      <td>新北市板橋區國慶路221號</td>\n",
              "      <td>(02)29543001</td>\n",
              "      <td>http://www.ccjh.ntpc.edu.tw</td>\n",
              "    </tr>\n",
              "    <tr>\n",
              "      <th>2</th>\n",
              "      <td>14504</td>\n",
              "      <td>市立江翠國中</td>\n",
              "      <td>公立</td>\n",
              "      <td>[01]新北市</td>\n",
              "      <td>220</td>\n",
              "      <td>新北市板橋區松江街63號</td>\n",
              "      <td>(02)22513256</td>\n",
              "      <td>http://www.ctjh.ntpc.edu.tw</td>\n",
              "    </tr>\n",
              "    <tr>\n",
              "      <th>3</th>\n",
              "      <td>14505</td>\n",
              "      <td>市立中山國中</td>\n",
              "      <td>公立</td>\n",
              "      <td>[01]新北市</td>\n",
              "      <td>220</td>\n",
              "      <td>新北市板橋區文化路一段188巷56號</td>\n",
              "      <td>(02)22508250#201</td>\n",
              "      <td>http://www.csjh.ntpc.edu.tw</td>\n",
              "    </tr>\n",
              "    <tr>\n",
              "      <th>4</th>\n",
              "      <td>14506</td>\n",
              "      <td>市立新埔國中</td>\n",
              "      <td>公立</td>\n",
              "      <td>[01]新北市</td>\n",
              "      <td>220</td>\n",
              "      <td>新北市板橋區新海路181號</td>\n",
              "      <td>(02)22572275</td>\n",
              "      <td>http://www.hpjh.ntpc.edu.tw</td>\n",
              "    </tr>\n",
              "  </tbody>\n",
              "</table>\n",
              "</div>"
            ],
            "text/plain": [
              "      代碼    學校名稱  ...                電話                           網址\n",
              "0  14501  市立板橋國中  ...  (02)29666498#234  http://www.pcjh.ntpc.edu.tw\n",
              "1  14503  市立重慶國中  ...      (02)29543001  http://www.ccjh.ntpc.edu.tw\n",
              "2  14504  市立江翠國中  ...      (02)22513256  http://www.ctjh.ntpc.edu.tw\n",
              "3  14505  市立中山國中  ...  (02)22508250#201  http://www.csjh.ntpc.edu.tw\n",
              "4  14506  市立新埔國中  ...      (02)22572275  http://www.hpjh.ntpc.edu.tw\n",
              "\n",
              "[5 rows x 8 columns]"
            ]
          },
          "metadata": {
            "tags": []
          },
          "execution_count": 13
        }
      ]
    },
    {
      "cell_type": "code",
      "metadata": {
        "id": "F7vWbM4r_Qb5"
      },
      "source": [
        "def get_lat_long(place):\n",
        "    g = geocoder.osm(place)\n",
        "    if g.json:\n",
        "        lat = g.json['lat']\n",
        "        lng = g.json['lng']\n",
        "    else:\n",
        "        lat = ''\n",
        "        lng = ''\n",
        "    time.sleep(1)\n",
        "    return place, lat, lng"
      ],
      "execution_count": null,
      "outputs": []
    },
    {
      "cell_type": "code",
      "metadata": {
        "id": "XO7yMWBn_Qb7",
        "colab": {
          "base_uri": "https://localhost:8080/",
          "height": 47
        },
        "outputId": "9f7b2f7f-13bf-4063-916a-70707dbe7407"
      },
      "source": [
        "df_empty = pd.DataFrame(columns=('index','學校名稱', '緯度', '經度'))\n",
        "df_empty "
      ],
      "execution_count": null,
      "outputs": [
        {
          "output_type": "execute_result",
          "data": {
            "text/html": [
              "<div>\n",
              "<style scoped>\n",
              "    .dataframe tbody tr th:only-of-type {\n",
              "        vertical-align: middle;\n",
              "    }\n",
              "\n",
              "    .dataframe tbody tr th {\n",
              "        vertical-align: top;\n",
              "    }\n",
              "\n",
              "    .dataframe thead th {\n",
              "        text-align: right;\n",
              "    }\n",
              "</style>\n",
              "<table border=\"1\" class=\"dataframe\">\n",
              "  <thead>\n",
              "    <tr style=\"text-align: right;\">\n",
              "      <th></th>\n",
              "      <th>index</th>\n",
              "      <th>學校名稱</th>\n",
              "      <th>緯度</th>\n",
              "      <th>經度</th>\n",
              "    </tr>\n",
              "  </thead>\n",
              "  <tbody>\n",
              "  </tbody>\n",
              "</table>\n",
              "</div>"
            ],
            "text/plain": [
              "Empty DataFrame\n",
              "Columns: [index, 學校名稱, 緯度, 經度]\n",
              "Index: []"
            ]
          },
          "metadata": {
            "tags": []
          },
          "execution_count": 15
        }
      ]
    },
    {
      "cell_type": "code",
      "metadata": {
        "id": "wnDbRFxF_Qb9"
      },
      "source": [
        "place01 = map_data02[0:5]['學校名稱']"
      ],
      "execution_count": null,
      "outputs": []
    },
    {
      "cell_type": "code",
      "metadata": {
        "id": "Sq9wGqSh_Qb_",
        "colab": {
          "base_uri": "https://localhost:8080/",
          "height": 124
        },
        "outputId": "bd77b80b-68b6-4bc2-a83f-b27b2f103c67"
      },
      "source": [
        "for i in range(0,len(place01)):\n",
        "    result = get_lat_long(place01[i])\n",
        "    index = i\n",
        "    name = result[0]\n",
        "    lat = result[1]\n",
        "    long = result[2]\n",
        "    df_empty = df_empty.append(pd.DataFrame({'index':[i],'學校名稱':[name],'緯度':[lat],'經度':[long]}), ignore_index=True)\n",
        "    time.sleep(1)\n",
        "print(df_empty)"
      ],
      "execution_count": null,
      "outputs": [
        {
          "output_type": "stream",
          "text": [
            "  index    學校名稱         緯度          經度\n",
            "0     0  市立板橋國中  25.024000  121.454200\n",
            "1     1  市立重慶國中  25.076500  121.518186\n",
            "2     2  市立江翠國中  25.028638  121.467319\n",
            "3     3  市立中山國中  25.060687  121.544202\n",
            "4     4  市立新埔國中  25.025088  121.459527\n"
          ],
          "name": "stdout"
        }
      ]
    },
    {
      "cell_type": "code",
      "metadata": {
        "id": "PV_7DDcx_QcB"
      },
      "source": [
        "df_empty.to_excel('/content/drive/My Drive/Colab Notebooks/地址轉經緯度/Output/output_school001.xlsx', sheet_name='Sheet01') "
      ],
      "execution_count": null,
      "outputs": []
    },
    {
      "cell_type": "markdown",
      "metadata": {
        "id": "Bq8P_4Zp_QcD"
      },
      "source": [
        "* Reverse：未有範例"
      ]
    },
    {
      "cell_type": "code",
      "metadata": {
        "id": "5zJZN5Eu_QcE",
        "colab": {
          "base_uri": "https://localhost:8080/",
          "height": 35
        },
        "outputId": "bc544ec6-6661-4494-89ac-791029f5ffc4"
      },
      "source": [
        "g_rev = geocoder.google([25.025088, 121.459527], method='reverse')\n",
        "g_rev"
      ],
      "execution_count": null,
      "outputs": [
        {
          "output_type": "execute_result",
          "data": {
            "text/plain": [
              "<[REQUEST_DENIED] Google - Reverse [empty]>"
            ]
          },
          "metadata": {
            "tags": []
          },
          "execution_count": 25
        }
      ]
    },
    {
      "cell_type": "code",
      "metadata": {
        "id": "ylXLh5l2_QcI"
      },
      "source": [
        "g_rev.city"
      ],
      "execution_count": null,
      "outputs": []
    },
    {
      "cell_type": "code",
      "metadata": {
        "id": "efjji1VQ_QcM"
      },
      "source": [
        "g_rev.state"
      ],
      "execution_count": null,
      "outputs": []
    },
    {
      "cell_type": "code",
      "metadata": {
        "id": "U32tqvdg_QcO"
      },
      "source": [
        "g_rev.state_long"
      ],
      "execution_count": null,
      "outputs": []
    },
    {
      "cell_type": "code",
      "metadata": {
        "id": "QWIKVw19_QcR"
      },
      "source": [
        "g_rev.country"
      ],
      "execution_count": null,
      "outputs": []
    },
    {
      "cell_type": "code",
      "metadata": {
        "id": "w2H4o1IV_QcT"
      },
      "source": [
        "g_rev.country_long"
      ],
      "execution_count": null,
      "outputs": []
    },
    {
      "cell_type": "markdown",
      "metadata": {
        "id": "U83bh-C8_QcV"
      },
      "source": [
        "* House Addresses：未有範例"
      ]
    },
    {
      "cell_type": "code",
      "metadata": {
        "id": "tC-LrCAf_QcW"
      },
      "source": [
        "g_home = geocoder.google('臺北市文山區萬隆萬興里新隆指南路二段64路')\n",
        "g_home.housenumber"
      ],
      "execution_count": null,
      "outputs": []
    },
    {
      "cell_type": "code",
      "metadata": {
        "id": "80KUGa4c_QcX"
      },
      "source": [
        "g_home.postal"
      ],
      "execution_count": null,
      "outputs": []
    },
    {
      "cell_type": "code",
      "metadata": {
        "id": "3xdgwx1I_QcZ"
      },
      "source": [
        "g_home.street"
      ],
      "execution_count": null,
      "outputs": []
    },
    {
      "cell_type": "code",
      "metadata": {
        "id": "Oe-6DNvT_Qcd"
      },
      "source": [
        "g_home.street_long"
      ],
      "execution_count": null,
      "outputs": []
    },
    {
      "cell_type": "markdown",
      "metadata": {
        "id": "29hl6LRQ_Qcf"
      },
      "source": [
        "* IP Addresses"
      ]
    },
    {
      "cell_type": "code",
      "metadata": {
        "id": "UsRQ9viK_Qcf",
        "colab": {
          "base_uri": "https://localhost:8080/",
          "height": 35
        },
        "outputId": "b83d47c1-be63-4a19-9fe6-9035d0c4c9cb"
      },
      "source": [
        "g_IP = geocoder.ip('199.7.157.0')\n",
        "g_IP"
      ],
      "execution_count": null,
      "outputs": [
        {
          "output_type": "execute_result",
          "data": {
            "text/plain": [
              "<[OK] Ipinfo - Geocode [Toronto, Ontario, CA]>"
            ]
          },
          "metadata": {
            "tags": []
          },
          "execution_count": 30
        }
      ]
    },
    {
      "cell_type": "code",
      "metadata": {
        "id": "dZerKHdj_Qci",
        "colab": {
          "base_uri": "https://localhost:8080/",
          "height": 35
        },
        "outputId": "683b501d-5719-42ab-ac20-c87d90e86145"
      },
      "source": [
        "g_IP.latlng"
      ],
      "execution_count": null,
      "outputs": [
        {
          "output_type": "execute_result",
          "data": {
            "text/plain": [
              "[43.7001, -79.4163]"
            ]
          },
          "metadata": {
            "tags": []
          },
          "execution_count": 31
        }
      ]
    },
    {
      "cell_type": "code",
      "metadata": {
        "id": "SQtr_7Th_Qck",
        "colab": {
          "base_uri": "https://localhost:8080/",
          "height": 36
        },
        "outputId": "67a9d3cc-dd45-4912-9737-922ea5b40956"
      },
      "source": [
        "g_IP.city"
      ],
      "execution_count": null,
      "outputs": [
        {
          "output_type": "execute_result",
          "data": {
            "application/vnd.google.colaboratory.intrinsic": {
              "type": "string"
            },
            "text/plain": [
              "'Toronto'"
            ]
          },
          "metadata": {
            "tags": []
          },
          "execution_count": 32
        }
      ]
    },
    {
      "cell_type": "code",
      "metadata": {
        "id": "IWd003P0_Qcm",
        "colab": {
          "base_uri": "https://localhost:8080/",
          "height": 35
        },
        "outputId": "4585986a-548a-48b5-de57-f14992953f4b"
      },
      "source": [
        "g_IPM = geocoder.ip('me')   #我所在位置\n",
        "g_IPM"
      ],
      "execution_count": null,
      "outputs": [
        {
          "output_type": "execute_result",
          "data": {
            "text/plain": [
              "<[OK] Ipinfo - Geocode [San Jose, California, US]>"
            ]
          },
          "metadata": {
            "tags": []
          },
          "execution_count": 33
        }
      ]
    },
    {
      "cell_type": "code",
      "metadata": {
        "id": "rWxptMUI_Qcn",
        "colab": {
          "base_uri": "https://localhost:8080/",
          "height": 35
        },
        "outputId": "c28fcf94-dba7-407a-a3f0-18f8bcafccbd"
      },
      "source": [
        "g_IPM.latlng"
      ],
      "execution_count": null,
      "outputs": [
        {
          "output_type": "execute_result",
          "data": {
            "text/plain": [
              "[37.3394, -121.895]"
            ]
          },
          "metadata": {
            "tags": []
          },
          "execution_count": 34
        }
      ]
    },
    {
      "cell_type": "code",
      "metadata": {
        "id": "Fouz7Y0v_Qcp",
        "colab": {
          "base_uri": "https://localhost:8080/",
          "height": 36
        },
        "outputId": "81c95a83-4100-4a1a-c466-57c65f0a3edd"
      },
      "source": [
        "g_IPM.city"
      ],
      "execution_count": null,
      "outputs": [
        {
          "output_type": "execute_result",
          "data": {
            "application/vnd.google.colaboratory.intrinsic": {
              "type": "string"
            },
            "text/plain": [
              "'San Jose'"
            ]
          },
          "metadata": {
            "tags": []
          },
          "execution_count": 35
        }
      ]
    },
    {
      "cell_type": "markdown",
      "metadata": {
        "id": "RtFhGYai_Qcq"
      },
      "source": [
        "###### (方法02) 匯入套件：有些會有誤差"
      ]
    },
    {
      "cell_type": "code",
      "metadata": {
        "id": "F-MqLyMs_Qcr",
        "colab": {
          "base_uri": "https://localhost:8080/",
          "height": 33
        },
        "outputId": "8ecba0b9-b839-4127-f49d-05a645aa987b"
      },
      "source": [
        "h = geocoder.arcgis('臺北市中山區集英里權西路35號8樓')\n",
        "h"
      ],
      "execution_count": null,
      "outputs": [
        {
          "output_type": "execute_result",
          "data": {
            "text/plain": [
              "<[OK] Arcgis - Geocode [台北市中山區集英里]>"
            ]
          },
          "metadata": {
            "tags": []
          },
          "execution_count": 39
        }
      ]
    },
    {
      "cell_type": "code",
      "metadata": {
        "id": "6fMmqSPn_Qct",
        "colab": {
          "base_uri": "https://localhost:8080/",
          "height": 300
        },
        "outputId": "eed20bc6-8c51-40f4-8c59-c9fa4c101494"
      },
      "source": [
        "h.json"
      ],
      "execution_count": null,
      "outputs": [
        {
          "output_type": "execute_result",
          "data": {
            "text/plain": [
              "{'address': '台北市中山區集英里',\n",
              " 'bbox': {'northeast': [25.073380000000054, 121.53131000000009],\n",
              "  'southwest': [25.05338000000005, 121.51131000000008]},\n",
              " 'confidence': 7,\n",
              " 'lat': 25.063380000000052,\n",
              " 'lng': 121.52131000000008,\n",
              " 'ok': True,\n",
              " 'quality': 'Locality',\n",
              " 'raw': {'extent': {'xmax': 121.53131000000009,\n",
              "   'xmin': 121.51131000000008,\n",
              "   'ymax': 25.073380000000054,\n",
              "   'ymin': 25.05338000000005},\n",
              "  'feature': {'attributes': {'Addr_Type': 'Locality', 'Score': 81.18},\n",
              "   'geometry': {'x': 121.52131000000008, 'y': 25.063380000000052}},\n",
              "  'name': '台北市中山區集英里'},\n",
              " 'score': 81.18,\n",
              " 'status': 'OK'}"
            ]
          },
          "metadata": {
            "tags": []
          },
          "execution_count": 40
        }
      ]
    },
    {
      "cell_type": "code",
      "metadata": {
        "id": "xFav6vn1_Qcu",
        "colab": {
          "base_uri": "https://localhost:8080/",
          "height": 33
        },
        "outputId": "8b2dac03-78f2-4639-dacd-e4ddeb571f82"
      },
      "source": [
        "h.json['lat'], h.json['lng']"
      ],
      "execution_count": null,
      "outputs": [
        {
          "output_type": "execute_result",
          "data": {
            "text/plain": [
              "(25.063380000000052, 121.52131000000008)"
            ]
          },
          "metadata": {
            "tags": []
          },
          "execution_count": 41
        }
      ]
    },
    {
      "cell_type": "code",
      "metadata": {
        "id": "-k4weSzw_Qcw",
        "colab": {
          "base_uri": "https://localhost:8080/",
          "height": 33
        },
        "outputId": "1fe985b2-0b55-45c1-a673-73115f991720"
      },
      "source": [
        "h.latlng\n",
        "# 地址的經緯度：(25.063413, 121.521204)\n",
        "# 衛生福利部資料：https://tw-aed.mohw.gov.tw/ShowPlace.jsp?PlaceID=2723\n",
        "# 臺北捷運行天宮站 O09 的地址：台北市中山區松江路316號\n",
        "# 臺北捷運行天宮站 O09 的經緯度：(25.059759, 121.533095)"
      ],
      "execution_count": null,
      "outputs": [
        {
          "output_type": "execute_result",
          "data": {
            "text/plain": [
              "[25.063380000000052, 121.52131000000008]"
            ]
          },
          "metadata": {
            "tags": []
          },
          "execution_count": 42
        }
      ]
    },
    {
      "cell_type": "markdown",
      "metadata": {
        "id": "GPPNQa94_Qcy"
      },
      "source": [
        "###### (方法03) 呼叫 GOOGLE API\n",
        "* Google API設定：https://tutorials.webduino.io/zh-tw/docs/socket/useful/google-map-1.html"
      ]
    },
    {
      "cell_type": "code",
      "metadata": {
        "scrolled": true,
        "id": "VG-biTXM_Qcy",
        "outputId": "ee7fb58d-8be5-4934-8501-2f16ad137dca"
      },
      "source": [
        "#!pip install pipenv \n",
        "# 安裝 Pipenv"
      ],
      "execution_count": null,
      "outputs": [
        {
          "output_type": "stream",
          "text": [
            "Requirement already satisfied: pipenv in e:\\anaconda3\\envs\\myenv\\lib\\site-packages (2018.11.26)\n",
            "Requirement already satisfied: virtualenv in e:\\anaconda3\\envs\\myenv\\lib\\site-packages (from pipenv) (16.7.1)\n",
            "Requirement already satisfied: certifi in e:\\anaconda3\\envs\\myenv\\lib\\site-packages (from pipenv) (2019.6.16)\n",
            "Requirement already satisfied: pip>=9.0.1 in e:\\anaconda3\\envs\\myenv\\lib\\site-packages (from pipenv) (19.0.3)\n",
            "Requirement already satisfied: setuptools>=36.2.1 in e:\\anaconda3\\envs\\myenv\\lib\\site-packages (from pipenv) (40.8.0)\n",
            "Requirement already satisfied: virtualenv-clone>=0.2.5 in e:\\anaconda3\\envs\\myenv\\lib\\site-packages (from pipenv) (0.5.3)\n"
          ],
          "name": "stdout"
        }
      ]
    },
    {
      "cell_type": "code",
      "metadata": {
        "id": "Mhf9Kcb3_Qc0",
        "outputId": "5ac7b102-c966-4d1d-f06a-bea569a7c8b6"
      },
      "source": [
        "#!pip install googlemaps            \n",
        "# 安裝 Python client 來存取 API"
      ],
      "execution_count": null,
      "outputs": [
        {
          "output_type": "stream",
          "text": [
            "Requirement already satisfied: googlemaps in e:\\anaconda3\\envs\\myenv\\lib\\site-packages (3.0.2)\n",
            "Requirement already satisfied: requests<3.0,>=2.11.1 in e:\\anaconda3\\envs\\myenv\\lib\\site-packages (from googlemaps) (2.22.0)\n",
            "Requirement already satisfied: urllib3!=1.25.0,!=1.25.1,<1.26,>=1.21.1 in e:\\anaconda3\\envs\\myenv\\lib\\site-packages (from requests<3.0,>=2.11.1->googlemaps) (1.25.3)\n",
            "Requirement already satisfied: chardet<3.1.0,>=3.0.2 in e:\\anaconda3\\envs\\myenv\\lib\\site-packages (from requests<3.0,>=2.11.1->googlemaps) (3.0.4)\n",
            "Requirement already satisfied: idna<2.9,>=2.5 in e:\\anaconda3\\envs\\myenv\\lib\\site-packages (from requests<3.0,>=2.11.1->googlemaps) (2.8)\n",
            "Requirement already satisfied: certifi>=2017.4.17 in e:\\anaconda3\\envs\\myenv\\lib\\site-packages (from requests<3.0,>=2.11.1->googlemaps) (2019.6.16)\n"
          ],
          "name": "stdout"
        }
      ]
    },
    {
      "cell_type": "code",
      "metadata": {
        "id": "_hYxXeTd_Qc1",
        "outputId": "9ccb24f4-64fa-42bd-eb71-885fe9cceb09"
      },
      "source": [
        "#!pip install python-dotenv         \n",
        "# 選擇 dotenv 套件來儲存敏感資訊"
      ],
      "execution_count": null,
      "outputs": [
        {
          "output_type": "stream",
          "text": [
            "Requirement already satisfied: python-dotenv in e:\\anaconda3\\envs\\myenv\\lib\\site-packages (0.10.3)\n"
          ],
          "name": "stdout"
        }
      ]
    },
    {
      "cell_type": "code",
      "metadata": {
        "id": "GxqoBpeZ_Qc3",
        "outputId": "f1537bb7-430b-4e2f-8e36-716a641375e5"
      },
      "source": [
        "#!pip install bs4"
      ],
      "execution_count": null,
      "outputs": [
        {
          "output_type": "stream",
          "text": [
            "Requirement already satisfied: bs4 in e:\\anaconda3\\envs\\myenv\\lib\\site-packages (0.0.1)\n",
            "Requirement already satisfied: beautifulsoup4 in e:\\anaconda3\\envs\\myenv\\lib\\site-packages (from bs4) (4.8.0)\n",
            "Requirement already satisfied: soupsieve>=1.2 in e:\\anaconda3\\envs\\myenv\\lib\\site-packages (from beautifulsoup4->bs4) (1.9.2)\n"
          ],
          "name": "stdout"
        }
      ]
    },
    {
      "cell_type": "code",
      "metadata": {
        "id": "BaD4kPIQ_Qc5"
      },
      "source": [
        "import requests\n",
        "import urllib\n",
        "import json\n",
        "import time\n",
        "import pandas as pd "
      ],
      "execution_count": null,
      "outputs": []
    },
    {
      "cell_type": "code",
      "metadata": {
        "id": "WuzFaimK_Qc8"
      },
      "source": [
        "def get_latitude_longtitude(address, GOOGLE_PLACES_API_KEY):\n",
        "    # decode url\n",
        "    # address = urllib.quote(address)\n",
        "    url = 'https://maps.googleapis.com/maps/api/geocode/json?address=' + address + '&key=' + GOOGLE_PLACES_API_KEY\n",
        "    \n",
        "    while True:\n",
        "        res = requests.get(url)\n",
        "        js = json.loads(res.text)\n",
        "\n",
        "        if js['status'] != 'OVER_QUERY_LIMIT':\n",
        "            time.sleep(1)\n",
        "            break\n",
        "\n",
        "    result = js['results'][0]['geometry']['location']\n",
        "    lat = result['lat'] # 緯度\n",
        "    lng = result['lng'] # 經度\n",
        "\n",
        "    return address, lat, lng"
      ],
      "execution_count": null,
      "outputs": []
    },
    {
      "cell_type": "markdown",
      "metadata": {
        "id": "EQgYYJcT_Qc9"
      },
      "source": [
        "* 單一地址"
      ]
    },
    {
      "cell_type": "code",
      "metadata": {
        "id": "SrDJfyWD_Qc9"
      },
      "source": [
        "address = '你的地址'\n",
        "GOOGLE_PLACES_API_KEY = '你的 API KEY' # 把你的 API KEY\n",
        "get_latitude_longtitude(address, GOOGLE_PLACES_API_KEY)\n",
        "#lat, lng = get_latitude_longtitude()"
      ],
      "execution_count": null,
      "outputs": []
    },
    {
      "cell_type": "markdown",
      "metadata": {
        "id": "spy1wS84_QdA"
      },
      "source": [
        "* 多個地址"
      ]
    },
    {
      "cell_type": "code",
      "metadata": {
        "id": "4ADTMixi_QdB",
        "colab": {
          "base_uri": "https://localhost:8080/",
          "height": 194
        },
        "outputId": "bc7e9367-7eb9-41f0-ce82-8ba6c5d55b2c"
      },
      "source": [
        "# 匯入資料，有中文的時候要注意編碼用 utf-8 或 big5\n",
        "map_data02 = pd.read_csv('/content/drive/My Drive/Colab Notebooks/地址轉經緯度/Input/School.csv', encoding='big5')\n",
        "map_data02.head()"
      ],
      "execution_count": null,
      "outputs": [
        {
          "output_type": "execute_result",
          "data": {
            "text/html": [
              "<div>\n",
              "<style scoped>\n",
              "    .dataframe tbody tr th:only-of-type {\n",
              "        vertical-align: middle;\n",
              "    }\n",
              "\n",
              "    .dataframe tbody tr th {\n",
              "        vertical-align: top;\n",
              "    }\n",
              "\n",
              "    .dataframe thead th {\n",
              "        text-align: right;\n",
              "    }\n",
              "</style>\n",
              "<table border=\"1\" class=\"dataframe\">\n",
              "  <thead>\n",
              "    <tr style=\"text-align: right;\">\n",
              "      <th></th>\n",
              "      <th>代碼</th>\n",
              "      <th>學校名稱</th>\n",
              "      <th>公/私立</th>\n",
              "      <th>縣市名稱</th>\n",
              "      <th>郵遞區號</th>\n",
              "      <th>地址</th>\n",
              "      <th>電話</th>\n",
              "      <th>網址</th>\n",
              "    </tr>\n",
              "  </thead>\n",
              "  <tbody>\n",
              "    <tr>\n",
              "      <th>0</th>\n",
              "      <td>14501</td>\n",
              "      <td>市立板橋國中</td>\n",
              "      <td>公立</td>\n",
              "      <td>[01]新北市</td>\n",
              "      <td>220</td>\n",
              "      <td>新北市板橋區中正路437號</td>\n",
              "      <td>(02)29666498#234</td>\n",
              "      <td>http://www.pcjh.ntpc.edu.tw</td>\n",
              "    </tr>\n",
              "    <tr>\n",
              "      <th>1</th>\n",
              "      <td>14503</td>\n",
              "      <td>市立重慶國中</td>\n",
              "      <td>公立</td>\n",
              "      <td>[01]新北市</td>\n",
              "      <td>220</td>\n",
              "      <td>新北市板橋區國慶路221號</td>\n",
              "      <td>(02)29543001</td>\n",
              "      <td>http://www.ccjh.ntpc.edu.tw</td>\n",
              "    </tr>\n",
              "    <tr>\n",
              "      <th>2</th>\n",
              "      <td>14504</td>\n",
              "      <td>市立江翠國中</td>\n",
              "      <td>公立</td>\n",
              "      <td>[01]新北市</td>\n",
              "      <td>220</td>\n",
              "      <td>新北市板橋區松江街63號</td>\n",
              "      <td>(02)22513256</td>\n",
              "      <td>http://www.ctjh.ntpc.edu.tw</td>\n",
              "    </tr>\n",
              "    <tr>\n",
              "      <th>3</th>\n",
              "      <td>14505</td>\n",
              "      <td>市立中山國中</td>\n",
              "      <td>公立</td>\n",
              "      <td>[01]新北市</td>\n",
              "      <td>220</td>\n",
              "      <td>新北市板橋區文化路一段188巷56號</td>\n",
              "      <td>(02)22508250#201</td>\n",
              "      <td>http://www.csjh.ntpc.edu.tw</td>\n",
              "    </tr>\n",
              "    <tr>\n",
              "      <th>4</th>\n",
              "      <td>14506</td>\n",
              "      <td>市立新埔國中</td>\n",
              "      <td>公立</td>\n",
              "      <td>[01]新北市</td>\n",
              "      <td>220</td>\n",
              "      <td>新北市板橋區新海路181號</td>\n",
              "      <td>(02)22572275</td>\n",
              "      <td>http://www.hpjh.ntpc.edu.tw</td>\n",
              "    </tr>\n",
              "  </tbody>\n",
              "</table>\n",
              "</div>"
            ],
            "text/plain": [
              "      代碼    學校名稱  ...                電話                           網址\n",
              "0  14501  市立板橋國中  ...  (02)29666498#234  http://www.pcjh.ntpc.edu.tw\n",
              "1  14503  市立重慶國中  ...      (02)29543001  http://www.ccjh.ntpc.edu.tw\n",
              "2  14504  市立江翠國中  ...      (02)22513256  http://www.ctjh.ntpc.edu.tw\n",
              "3  14505  市立中山國中  ...  (02)22508250#201  http://www.csjh.ntpc.edu.tw\n",
              "4  14506  市立新埔國中  ...      (02)22572275  http://www.hpjh.ntpc.edu.tw\n",
              "\n",
              "[5 rows x 8 columns]"
            ]
          },
          "metadata": {
            "tags": []
          },
          "execution_count": 43
        }
      ]
    },
    {
      "cell_type": "code",
      "metadata": {
        "id": "sT33qqE3_QdD",
        "colab": {
          "base_uri": "https://localhost:8080/",
          "height": 35
        },
        "outputId": "3ee58063-6918-4485-a937-bc462e0a369d"
      },
      "source": [
        "map_data02['學校名稱'].head()\n",
        "# map_data02['地址'].head()"
      ],
      "execution_count": null,
      "outputs": [
        {
          "output_type": "execute_result",
          "data": {
            "text/plain": [
              "5"
            ]
          },
          "metadata": {
            "tags": []
          },
          "execution_count": 47
        }
      ]
    },
    {
      "cell_type": "code",
      "metadata": {
        "id": "z-9jpI18_QdF",
        "colab": {
          "base_uri": "https://localhost:8080/",
          "height": 106
        },
        "outputId": "59abe99f-8ec2-418e-9b66-f7c034a716c6"
      },
      "source": [
        "for i in range(0,5):\n",
        "    print(get_latitude_longtitude(map_data02['地址'][i], GOOGLE_PLACES_API_KEY))"
      ],
      "execution_count": null,
      "outputs": [
        {
          "output_type": "stream",
          "text": [
            "('新北市板橋區中正路437號', 25.0239742, 121.454208)\n",
            "('新北市板橋區國慶路221號', 24.9982654, 121.4632625)\n",
            "('新北市板橋區松江街63號', 25.0288652, 121.4684587)\n",
            "('新北市板橋區文化路一段188巷56號', 25.018452, 121.4675654)\n",
            "('新北市板橋區新海路181號', 25.0247941, 121.4597502)\n"
          ],
          "name": "stdout"
        }
      ]
    },
    {
      "cell_type": "code",
      "metadata": {
        "id": "5gbbacy7aaNu"
      },
      "source": [
        "df_empty = pd.DataFrame(columns=('index','地址', '緯度', '經度'))\n",
        "addr01 = map_data02['地址'].head()"
      ],
      "execution_count": null,
      "outputs": []
    },
    {
      "cell_type": "code",
      "metadata": {
        "id": "gB9tQAl__QdI",
        "colab": {
          "base_uri": "https://localhost:8080/",
          "height": 124
        },
        "outputId": "f42a5a42-5b83-4150-b640-8612f5b8eafa"
      },
      "source": [
        "for i in range(0,len(addr01)):\n",
        "    result = get_latitude_longtitude(addr01[i], GOOGLE_PLACES_API_KEY)\n",
        "    index = i\n",
        "    addr = result[0]\n",
        "    lat = result[1]\n",
        "    long = result[2]\n",
        "    df_empty = df_empty.append(pd.DataFrame({'index':[i],'地址':[addr],'緯度':[lat],'經度':[long]}), ignore_index=True)\n",
        "    time.sleep(1)\n",
        "print(df_empty)"
      ],
      "execution_count": null,
      "outputs": [
        {
          "output_type": "stream",
          "text": [
            "  index                  地址         緯度          經度\n",
            "0     0       新北市板橋區中正路437號  25.023974  121.454208\n",
            "1     1       新北市板橋區國慶路221號  24.998265  121.463262\n",
            "2     2        新北市板橋區松江街63號  25.028865  121.468459\n",
            "3     3  新北市板橋區文化路一段188巷56號  25.018452  121.467565\n",
            "4     4       新北市板橋區新海路181號  25.024794  121.459750\n"
          ],
          "name": "stdout"
        }
      ]
    },
    {
      "cell_type": "code",
      "metadata": {
        "id": "GW40sakN_QdK"
      },
      "source": [
        "df_empty.to_excel('/content/drive/My Drive/Colab Notebooks/地址轉經緯度/Output/output_school002.xlsx', sheet_name='Sheet01') "
      ],
      "execution_count": null,
      "outputs": []
    },
    {
      "cell_type": "markdown",
      "metadata": {
        "id": "AgIxOV-y_QdM"
      },
      "source": [
        "###### 參考資料\n",
        "* Google Map API - Geocoding 地址經緯度：https://shihs.github.io/blog/others/python/2018/06/28/Google-Map-API-Geocoding-%E5%9C%B0%E5%9D%80%E7%B6%93%E7%B7%AF%E5%BA%A6/\n",
        "* https://github.com/DenisCarriere/geocoder?fbclid=IwAR0v5i6JzorrM3CG-D0VqEJ9dQ91gDDkGu85N7-PPyECMy6byZdYbSb6ev4#providers"
      ]
    }
  ]
}